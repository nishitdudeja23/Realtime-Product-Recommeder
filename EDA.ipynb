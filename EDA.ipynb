{
 "cells": [
  {
   "attachments": {},
   "cell_type": "markdown",
   "metadata": {},
   "source": [
    "Feature engineering depends on what type of ML model you will use. For our project, we will use collaborative filtering. In this method, we will predict reccomendations based on the assumption\n",
    "that the best recommendations come from people who have similar tastes. In other words, it uses historical item ratings of like-minded people to predict how someone would rate an item."
   ]
  },
  {
   "attachments": {},
   "cell_type": "markdown",
   "metadata": {},
   "source": [
    "\n",
    "Collaborative filtering predicts the rating or preference of a user for a particular item. This rating can then be used to make recommendations for the user.\n",
    "\n",
    "For example, if a user has rated several items highly, a collaborative filtering model can predict the user's rating for other items and recommend those with the highest predicted rating. In other words, the model recommends items based on the user's past behavior and the behavior of similar users.\n",
    "\n",
    "To recommend items to a user, you can use the trained collaborative filtering model to predict the rating of the user for all the items in the dataset. Then, you can recommend the items with the highest predicted ratings to the user.\n",
    "\n",
    "So, in summary, collaborative filtering is used to predict the rating or preference of a user for a particular item. The predicted ratings can then be used to make recommendations for the user."
   ]
  },
  {
   "attachments": {},
   "cell_type": "markdown",
   "metadata": {},
   "source": [
    "In this case, the asin_encoded and reviewerID_encoded columns represent the input features that describe the relationships between users and items in the dataset. The overall column represents the target variable that the model will try to predict, which is the rating that a user would give to a particular item.\n",
    "\n",
    "We will also drop all other columns.\n",
    "\n",
    "By training a collaborative filtering model on this data, you can generate recommendations for users based on their past ratings and the ratings of similar users."
   ]
  },
  {
   "cell_type": "code",
   "execution_count": 1,
   "metadata": {},
   "outputs": [],
   "source": [
    "from pyspark.sql import SparkSession\n",
    "from pyspark.sql.types import StructType, StructField, StringType, LongType, DoubleType\n",
    "\n",
    "spark=SparkSession \\\n",
    "    .builder \\\n",
    "    .appName(\"FT\") \\\n",
    "    .master(\"local\") \\\n",
    "    .config(\"spark.mongodb.input.uri\", \"mongodb://localhost:27017/\") \\\n",
    "    .config(\"spark.mongodb.output.uri\", \"mongodb://localhost:27017/\") \\\n",
    "    .config(\"spark.driver.memory\",\"12g\")\\\n",
    "    .config(\"spark.executor.memory\", \"12g\") \\\n",
    "    .config(\"spark.jars.packages\", \"org.mongodb.spark:mongo-spark-connector_2.12:3.0.1\") \\\n",
    "    .getOrCreate()\n",
    "\n",
    "\n",
    "df = spark.read.format(\"com.mongodb.spark.sql.DefaultSource\").option(\"pipeline\", \"[{'$sample': {'size': 100000} }]\")\\\n",
    "    .option(\"uri\", \"mongodb://localhost:27017/\"+\"amazon\"+\".\"+\"data\")\\\n",
    "    .option(\"partitioner\", \"MongoSinglePartitioner\") \\\n",
    "    .option(\"partitionkey\", \"asin\")\\\n",
    "    .load()"
   ]
  },
  {
   "cell_type": "code",
   "execution_count": 2,
   "metadata": {},
   "outputs": [
    {
     "name": "stdout",
     "output_type": "stream",
     "text": [
      "+--------------------+----------+-------+--------------------+--------------+---------------+--------------------+--------------+--------+\n",
      "|                 _id|      asin|overall|          reviewText|    reviewerID|   reviewerName|             summary|unixReviewTime|verified|\n",
      "+--------------------+----------+-------+--------------------+--------------+---------------+--------------------+--------------+--------+\n",
      "|{6456654db3ab715e...|B005JOAOLW|    1.0|Horrible. If you ...| A6BJWZ82A94LH|     NAT TURNER|Horrible. If you ...|   1.5268608E9|    true|\n",
      "|{64566174b3ab715e...|B00AAAH0Y4|    3.0|This watch looks ...|A1FREEHODOHCLK|         Jordan|Looks nice, but i...|   1.3842144E9|    true|\n",
      "|{645665f4b3ab715e...|B015NFAKLK|    5.0|I would like more...|A3526B1LCK47X9|   1book-addict|             Awe....|   1.4435712E9|    true|\n",
      "|{64566bccb3ab715e...|1904421148|    3.0|             Average|A281QJ939F5ZOK|  Margot Warner|         Three Stars|   1.4257728E9|    true|\n",
      "|{645667bcb3ab715e...|B0039X2Y1I|    5.0|I was expecting m...|A2Z9T6W9XRKDDT|            Ana|I wouldn't buy again|   1.4936832E9|    true|\n",
      "|{64566694b3ab715e...|B007VX11O8|    3.0|I use this to gri...| AGDZUO1985R1Z|    RobTheGamer|I use this to gri...|   1.4577408E9|    true|\n",
      "|{64566079b3ab715e...|B00T48CW2I|    5.0|Picture quality i...|A1ECWE46AKD0WH|Michael L Craig|Picture quality i...|    1.452816E9|    true|\n",
      "|{645664eab3ab715e...|B00KKJAGO6|    4.0|it worked as expe...|A1DM23BI69YICP|         Garvin|          Four Stars|   1.4180832E9|    true|\n",
      "|{6456653db3ab715e...|B01DU6HX96|    5.0|Love everything a...|A3DNMK4PZ8RH6H|Amazon Customer|          Five Stars|   1.4913504E9|    true|\n",
      "|{645664d2b3ab715e...|B01CKURNQG|    5.0| Excellent quality!!|A3RTB6ZI2GH89N|      Big Daddy|          Five Stars|   1.4604192E9|    true|\n",
      "|{64565fbcb3ab715e...|B0012OP7HE|    5.0|This is my first ...|A32QY4L7NXS7LO|       A. SOUZA|Hear all the inst...|   1.2258432E9|    true|\n",
      "|{6456678fb3ab715e...|B007PJOPFU|    4.0|These work better...| AGJV1FSYPP6Z4|          marcy|much better than ...|   1.5097536E9|    true|\n",
      "|{64566361b3ab715e...|B002C0PSSA|    1.0|ALMOST BROKE MY N...| A55577N9UH57Q|             LB|                CRAP|   1.3941504E9|    true|\n",
      "|{645668c0b3ab715e...|0373132654|    3.0|The novel is good...|A3M5JMKPMAUDF3|        herdman|         Three Stars|   1.4076288E9|    true|\n",
      "|{64566139b3ab715e...|B003X4KDEI|    5.0|I wish these were...| A9JHF9OMH0LOY|     Staticmind|           Excellent|    1.396224E9|    true|\n",
      "|{645665d0b3ab715e...|B00BVJG256|    5.0|Great story! I lo...|A2VAIQAOQ2IE60|         Ronald|Great story! I lo...|   1.4388192E9|    true|\n",
      "|{645666c5b3ab715e...|B0002ARQV4|    5.0|We have gone thro...|A391752135MRAI|          JennK|Great product, sh...|    1.368576E9|    true|\n",
      "|{645662c9b3ab715e...|B0002VN5NG|    4.0|         Good value.| AFXDRXOFZQ2MR|            W R|          Four Stars|   1.4557536E9|    true|\n",
      "|{645669bcb3ab715e...|0991225295|    5.0|  I Love this author|A3BXZ2ACVV37YT|Amazon Customer|          Five Stars|   1.4927328E9|   false|\n",
      "|{64566871b3ab715e...|0143109847|    5.0|Really enjoyed th...|A1943HVHPARLGI|   Joshua Brown|Excellent history...|    1.454112E9|    true|\n",
      "+--------------------+----------+-------+--------------------+--------------+---------------+--------------------+--------------+--------+\n",
      "only showing top 20 rows\n",
      "\n"
     ]
    }
   ],
   "source": [
    "df.show()"
   ]
  },
  {
   "cell_type": "code",
   "execution_count": 2,
   "metadata": {},
   "outputs": [
    {
     "name": "stdout",
     "output_type": "stream",
     "text": [
      "+----------+-------+--------------+\n",
      "|      asin|overall|    reviewerID|\n",
      "+----------+-------+--------------+\n",
      "|0674004582|    5.0|A2QC50SA8W5UZX|\n",
      "|2376190053|    5.0|A2RZU0BOLNAWKE|\n",
      "|B00IQOC30C|    5.0|A1VRJKI38G4GOV|\n",
      "|B01C5BKWRM|    5.0|A10H9GVWWYCF2K|\n",
      "|1534640150|    4.0|A3MM34BGYQ8AGA|\n",
      "|B004IYSVOQ|    4.0| AD6S505KH3K65|\n",
      "|B00NMSHJFQ|    5.0| AFVIXQURFEBOG|\n",
      "|0765320320|    4.0|A21WBZYMCYKAK2|\n",
      "|1940941717|    5.0|A1VS1MO7XTLY8K|\n",
      "|1400112834|    5.0|A3OF9QTH843WL3|\n",
      "|B00K1NPSWG|    5.0|A30UZHV7Z6FIRH|\n",
      "|B01C2OMSVU|    5.0|A35INP86FVSYTX|\n",
      "|B0027OWGL8|    5.0|A1KV7MAMHLFMPP|\n",
      "|B003QX2JMA|    5.0|A2HCJ1J27OHEUU|\n",
      "|B00IGUJZ5C|    5.0|A118FRGBVZ2NV4|\n",
      "|B00005I9R3|    5.0|A1RJC0VSOXJV48|\n",
      "|B000851FM4|    5.0|A2OFG8LSMPI5WM|\n",
      "|B0058TW286|    5.0|A3RPR41UXZM5E2|\n",
      "|0820320331|    5.0|A2L548U9O96BGM|\n",
      "|B003BFR6SK|    5.0|  AJNZWYWMKTJ9|\n",
      "+----------+-------+--------------+\n",
      "only showing top 20 rows\n",
      "\n"
     ]
    }
   ],
   "source": [
    "df = df.drop('_id','reviewText','reviewerName','summary','unixReviewTime','verified')\n",
    "df.show()"
   ]
  },
  {
   "cell_type": "code",
   "execution_count": 3,
   "metadata": {},
   "outputs": [],
   "source": [
    "from pyspark.ml.feature import StringIndexer\n",
    "\n",
    "reviwerID_indexer= StringIndexer(inputCol=\"reviewerID\", outputCol=\"reviewerID_index\",handleInvalid='keep')\n",
    "fin_reviwerID= reviwerID_indexer.fit(df).transform(df)\n",
    "# fin_reviwerID.show()"
   ]
  },
  {
   "cell_type": "code",
   "execution_count": 4,
   "metadata": {},
   "outputs": [],
   "source": [
    "#sample_df.printSchema()\n",
    "asin_indexer= StringIndexer(inputCol=\"asin\", outputCol=\"asin_index\",handleInvalid='keep')\n",
    "fin_asi= asin_indexer.fit(df).transform(df)\n",
    "# fin_asi.show()"
   ]
  },
  {
   "cell_type": "code",
   "execution_count": 5,
   "metadata": {},
   "outputs": [],
   "source": [
    "fin_asi = fin_asi.drop(\"overall\")"
   ]
  },
  {
   "cell_type": "code",
   "execution_count": 6,
   "metadata": {},
   "outputs": [],
   "source": [
    "from pyspark.sql.functions import col\n",
    "\n",
    "final_df = (fin_asi\n",
    "            .join(fin_reviwerID, ['reviewerID'], 'inner')\n",
    "            .select(col('asin_index'), col('reviewerID_index'), col('overall'))\n",
    "           )\n"
   ]
  },
  {
   "cell_type": "code",
   "execution_count": 7,
   "metadata": {},
   "outputs": [
    {
     "name": "stdout",
     "output_type": "stream",
     "text": [
      "+----------+----------------+-------+\n",
      "|asin_index|reviewerID_index|overall|\n",
      "+----------+----------------+-------+\n",
      "|   11896.0|         10379.0|    4.0|\n",
      "|   86994.0|         98441.0|    5.0|\n",
      "|   86994.0|         98441.0|    1.0|\n",
      "|   28799.0|         98441.0|    4.0|\n",
      "|   86994.0|         98441.0|    5.0|\n",
      "|   86994.0|         98441.0|    5.0|\n",
      "|   86994.0|         98441.0|    5.0|\n",
      "|   86994.0|         98441.0|    5.0|\n",
      "|   11896.0|         10379.0|    2.0|\n",
      "|   86994.0|         49422.0|    5.0|\n",
      "|   86994.0|         49422.0|    5.0|\n",
      "|   86994.0|         49422.0|    5.0|\n",
      "|   86994.0|         98441.0|    4.0|\n",
      "|   86994.0|         98441.0|    4.0|\n",
      "|   11896.0|         10379.0|    4.0|\n",
      "|   13084.0|         98441.0|    5.0|\n",
      "|   86994.0|         36940.0|    5.0|\n",
      "|   86994.0|           623.0|    5.0|\n",
      "|   86994.0|           623.0|    5.0|\n",
      "|   86994.0|         98441.0|    4.0|\n",
      "+----------+----------------+-------+\n",
      "only showing top 20 rows\n",
      "\n"
     ]
    }
   ],
   "source": [
    "final_df.show()"
   ]
  },
  {
   "cell_type": "code",
   "execution_count": 8,
   "metadata": {},
   "outputs": [],
   "source": [
    "# Drop duplicates based on 'asin_indexed' and 'reviewerID_indexed' columns\n",
    "final_df = final_df.dropDuplicates(['asin_index', 'reviewerID_index'])\n",
    "\n",
    "# Drop NaN values\n",
    "final_df = final_df.na.drop()\n"
   ]
  },
  {
   "cell_type": "code",
   "execution_count": 9,
   "metadata": {},
   "outputs": [
    {
     "name": "stdout",
     "output_type": "stream",
     "text": [
      "+----------+----------------+-------+\n",
      "|asin_index|reviewerID_index|overall|\n",
      "+----------+----------------+-------+\n",
      "|      76.0|         98441.0|    5.0|\n",
      "|   84533.0|         95564.0|    5.0|\n",
      "|   41274.0|         98441.0|    5.0|\n",
      "|   86994.0|         52520.0|    5.0|\n",
      "|   86994.0|         68669.0|    5.0|\n",
      "|    5032.0|         87474.0|    5.0|\n",
      "|   86994.0|         29858.0|    5.0|\n",
      "|    4676.0|         98441.0|    5.0|\n",
      "|   28802.0|         98441.0|    5.0|\n",
      "|   71500.0|         98441.0|    3.0|\n",
      "|   86994.0|          1155.0|    4.0|\n",
      "|    7050.0|         98441.0|    5.0|\n",
      "|   86994.0|         20959.0|    4.0|\n",
      "|    9853.0|         98441.0|    4.0|\n",
      "|   62685.0|         98441.0|    5.0|\n",
      "|   86994.0|         65726.0|    5.0|\n",
      "|   86994.0|         57820.0|    5.0|\n",
      "|   86994.0|         55181.0|    5.0|\n",
      "|    7230.0|         98441.0|    5.0|\n",
      "|   16475.0|         98441.0|    4.0|\n",
      "+----------+----------------+-------+\n",
      "only showing top 20 rows\n",
      "\n"
     ]
    }
   ],
   "source": [
    "final_df.show()"
   ]
  },
  {
   "cell_type": "code",
   "execution_count": 10,
   "metadata": {},
   "outputs": [],
   "source": [
    "#df_index = df_index.drop('asin','reviewerID')\n",
    "#df_index = df_index.dropna()"
   ]
  },
  {
   "cell_type": "code",
   "execution_count": 11,
   "metadata": {},
   "outputs": [],
   "source": [
    "#df_index.show()"
   ]
  },
  {
   "cell_type": "code",
   "execution_count": 12,
   "metadata": {},
   "outputs": [],
   "source": [
    "#from pyspark.sql.functions import count\n",
    "#final_df.groupBy('overall').agg(count('*').alias('count')).show()\n"
   ]
  },
  {
   "cell_type": "code",
   "execution_count": 13,
   "metadata": {},
   "outputs": [],
   "source": [
    "#df_maj=df_index[final_df['overall']==5.0]\n",
    "#f_min = df_index[final_df['overall']!=5.0]"
   ]
  },
  {
   "cell_type": "code",
   "execution_count": 14,
   "metadata": {},
   "outputs": [],
   "source": [
    "from pyspark.sql.functions import col\n",
    "\n",
    "#upsample_df = df_min.sample(True, float(df_maj.count())/float(df_min.count()), seed=50)\n",
    "#upsample_df = upsample_df.union(df_maj)\n",
    "#upsample_df.groupBy(\"overall\").count().orderBy(col(\"count\").desc()).show()\n"
   ]
  },
  {
   "cell_type": "code",
   "execution_count": 15,
   "metadata": {},
   "outputs": [],
   "source": [
    "#upsample_df.head(5)"
   ]
  },
  {
   "cell_type": "code",
   "execution_count": 16,
   "metadata": {},
   "outputs": [],
   "source": [
    "#df_index = upsample_df"
   ]
  },
  {
   "cell_type": "code",
   "execution_count": 17,
   "metadata": {},
   "outputs": [],
   "source": [
    "train_data, test_data = final_df.randomSplit([0.75,0.25])"
   ]
  },
  {
   "cell_type": "code",
   "execution_count": 18,
   "metadata": {},
   "outputs": [
    {
     "name": "stdout",
     "output_type": "stream",
     "text": [
      "Reg Parm worked successfully\n",
      "Root-mean-square error = 1.6446085733952953\n"
     ]
    }
   ],
   "source": [
    "from pyspark.ml.recommendation import ALS\n",
    "from pyspark.ml.evaluation import RegressionEvaluator\n",
    "from pyspark.ml import Pipeline\n",
    "\n",
    "print(\"Reg Parm worked successfully\")\n",
    "\n",
    "# Train the ALS model on the training set\n",
    "als_mf = ALS(maxIter=5, regParam=0.01, userCol=\"reviewerID_index\", itemCol=\"asin_index\", ratingCol=\"overall\", coldStartStrategy=\"drop\")\n",
    "pipeline_mf = Pipeline(stages=[als_mf])\n",
    "model_mf = pipeline_mf.fit(train_data)\n",
    "\n",
    "# Make predictions on the testing set\n",
    "predictions = model_mf.transform(test_data)\n",
    "predictions = predictions.dropna()\n",
    "\n",
    "# Evaluate the model using RMSE\n",
    "evaluator = RegressionEvaluator(metricName=\"rmse\", labelCol=\"overall\", predictionCol=\"prediction\")\n",
    "rmse = evaluator.evaluate(predictions)\n",
    "print(\"Root-mean-square error = \" + str(rmse))\n"
   ]
  },
  {
   "cell_type": "code",
   "execution_count": 19,
   "metadata": {},
   "outputs": [
    {
     "data": {
      "text/plain": [
       "[Row(asin_index=2482.0, reviewerID_index=98441.0, overall=5.0, prediction=2.089376926422119),\n",
       " Row(asin_index=3112.0, reviewerID_index=98441.0, overall=4.0, prediction=3.9965786933898926),\n",
       " Row(asin_index=22547.0, reviewerID_index=98441.0, overall=5.0, prediction=2.997434139251709),\n",
       " Row(asin_index=86994.0, reviewerID_index=6.0, overall=5.0, prediction=4.9922661781311035),\n",
       " Row(asin_index=86994.0, reviewerID_index=18.0, overall=5.0, prediction=3.9938125610351562)]"
      ]
     },
     "execution_count": 19,
     "metadata": {},
     "output_type": "execute_result"
    }
   ],
   "source": [
    "predictions.head(5)"
   ]
  },
  {
   "cell_type": "code",
   "execution_count": 28,
   "metadata": {},
   "outputs": [
    {
     "name": "stdout",
     "output_type": "stream",
     "text": [
      "+----------+----------------+-------+----------+\n",
      "|asin_index|reviewerID_index|overall|prediction|\n",
      "+----------+----------------+-------+----------+\n",
      "|      38.0|         98441.0|    4.0| 4.9957237|\n",
      "|      93.0|         98441.0|    5.0| 3.7858934|\n",
      "|    2730.0|         98441.0|    5.0| 4.9957237|\n",
      "|    3112.0|         98441.0|    5.0| 3.9965787|\n",
      "|   55337.0|         98441.0|    3.0|0.42313343|\n",
      "|   86994.0|             1.0|    5.0|  4.997837|\n",
      "|   86994.0|             4.0|    4.0| 4.9982038|\n",
      "|   86994.0|            25.0|    2.0| 3.9938126|\n",
      "|   86994.0|            31.0|    5.0|  4.992266|\n",
      "|   86994.0|            43.0|    5.0|  4.997806|\n",
      "|   86994.0|            46.0|    3.0| 3.9938126|\n",
      "|   86994.0|            70.0|    5.0|  4.992266|\n",
      "|   86994.0|            82.0|    3.0| 0.7334168|\n",
      "|   86994.0|           132.0|    5.0|  4.992266|\n",
      "|   86994.0|           137.0|    4.0|  3.999385|\n",
      "|   86994.0|           287.0|    5.0|  4.992266|\n",
      "|   86994.0|           436.0|    4.0|  4.992266|\n",
      "|   86994.0|           753.0|    5.0|  4.992266|\n",
      "|   86994.0|           921.0|    4.0|  4.992266|\n",
      "|   86994.0|          1213.0|    4.0| 3.9938126|\n",
      "+----------+----------------+-------+----------+\n",
      "only showing top 20 rows\n",
      "\n"
     ]
    }
   ],
   "source": [
    "predictions.show()"
   ]
  },
  {
   "cell_type": "code",
   "execution_count": null,
   "metadata": {},
   "outputs": [
    {
     "data": {
      "text/plain": [
       "4096"
      ]
     },
     "execution_count": 31,
     "metadata": {},
     "output_type": "execute_result"
    }
   ],
   "source": [
    "model.getBlockSize()"
   ]
  },
  {
   "cell_type": "code",
   "execution_count": null,
   "metadata": {},
   "outputs": [
    {
     "name": "stdout",
     "output_type": "stream",
     "text": [
      "+-------+------------+------------------+\n",
      "|overall|asin_indexed|reviewerID_indexed|\n",
      "+-------+------------+------------------+\n",
      "|    1.0|    596146.0|          910547.0|\n",
      "|    1.0|    596146.0|          910547.0|\n",
      "|    4.0|     16719.0|          910547.0|\n",
      "|    4.0|     16719.0|          910547.0|\n",
      "|    4.0|     16719.0|          910547.0|\n",
      "|    4.0|     16719.0|          910547.0|\n",
      "|    4.0|     16719.0|          910547.0|\n",
      "|    2.0|    192253.0|          910547.0|\n",
      "|    3.0|    596146.0|          910547.0|\n",
      "|    3.0|    596146.0|          910547.0|\n",
      "|    1.0|    596146.0|          910547.0|\n",
      "|    1.0|     81688.0|          910547.0|\n",
      "|    4.0|    431711.0|          910547.0|\n",
      "|    4.0|    431711.0|          910547.0|\n",
      "|    4.0|    596146.0|          910547.0|\n",
      "|    4.0|    596146.0|          910547.0|\n",
      "|    4.0|    596146.0|          910547.0|\n",
      "|    4.0|    596146.0|          910547.0|\n",
      "|    4.0|      5104.0|          910547.0|\n",
      "|    4.0|      5104.0|          910547.0|\n",
      "+-------+------------+------------------+\n",
      "only showing top 20 rows\n",
      "\n"
     ]
    }
   ],
   "source": [
    "df_index = df_index.drop('asin','reviewerID')\n",
    "df_index.show()"
   ]
  },
  {
   "cell_type": "code",
   "execution_count": null,
   "metadata": {},
   "outputs": [
    {
     "name": "stdout",
     "output_type": "stream",
     "text": [
      "+-------+------------+------------------+-------------------+\n",
      "|overall|asin_indexed|reviewerID_indexed|      VectorFeature|\n",
      "+-------+------------+------------------+-------------------+\n",
      "|    4.0|    328933.0|          910547.0|[328933.0,910547.0]|\n",
      "|    4.0|    328933.0|          910547.0|[328933.0,910547.0]|\n",
      "|    4.0|    596146.0|          910547.0|[596146.0,910547.0]|\n",
      "|    4.0|    596146.0|          910547.0|[596146.0,910547.0]|\n",
      "|    4.0|    596146.0|          910547.0|[596146.0,910547.0]|\n",
      "|    4.0|    596146.0|          910547.0|[596146.0,910547.0]|\n",
      "|    4.0|    596146.0|          910547.0|[596146.0,910547.0]|\n",
      "|    2.0|    105072.0|          910547.0|[105072.0,910547.0]|\n",
      "|    1.0|    101315.0|          910547.0|[101315.0,910547.0]|\n",
      "|    1.0|    101315.0|          910547.0|[101315.0,910547.0]|\n",
      "|    2.0|    596146.0|          910547.0|[596146.0,910547.0]|\n",
      "|    1.0|    596146.0|          910547.0|[596146.0,910547.0]|\n",
      "|    3.0|    596146.0|          910547.0|[596146.0,910547.0]|\n",
      "|    3.0|    596146.0|          910547.0|[596146.0,910547.0]|\n",
      "|    1.0|    596146.0|          910547.0|[596146.0,910547.0]|\n",
      "|    1.0|    596146.0|          910547.0|[596146.0,910547.0]|\n",
      "|    1.0|    596146.0|          910547.0|[596146.0,910547.0]|\n",
      "|    1.0|    596146.0|          910547.0|[596146.0,910547.0]|\n",
      "|    3.0|    596146.0|          910547.0|[596146.0,910547.0]|\n",
      "|    3.0|    596146.0|          910547.0|[596146.0,910547.0]|\n",
      "+-------+------------+------------------+-------------------+\n",
      "only showing top 20 rows\n",
      "\n"
     ]
    }
   ],
   "source": [
    "from pyspark.ml.feature import VectorAssembler\n",
    "featureassembler = VectorAssembler(inputCols=[\"asin_indexed\", \"reviewerID_indexed\"],\n",
    "                                   outputCol=\"VectorFeature\")\n",
    "df_index = featureassembler.transform(df_index)\n",
    "df_index.show()"
   ]
  },
  {
   "cell_type": "code",
   "execution_count": null,
   "metadata": {},
   "outputs": [
    {
     "name": "stdout",
     "output_type": "stream",
     "text": [
      "+-------------------+-------+\n",
      "|      VectorFeature|overall|\n",
      "+-------------------+-------+\n",
      "|[596146.0,910547.0]|    3.0|\n",
      "|[596146.0,910547.0]|    3.0|\n",
      "|[203369.0,559904.0]|    1.0|\n",
      "|[203369.0,559904.0]|    1.0|\n",
      "|[203369.0,559904.0]|    1.0|\n",
      "|[203369.0,559904.0]|    1.0|\n",
      "|[203369.0,559904.0]|    1.0|\n",
      "|[596146.0,910547.0]|    1.0|\n",
      "|    [73.0,910547.0]|    4.0|\n",
      "|    [73.0,910547.0]|    4.0|\n",
      "| [146325.0,28561.0]|    1.0|\n",
      "|  [6113.0,304020.0]|    3.0|\n",
      "|[114288.0,910547.0]|    2.0|\n",
      "|[114288.0,910547.0]|    2.0|\n",
      "|  [1787.0,910547.0]|    4.0|\n",
      "|  [1787.0,910547.0]|    4.0|\n",
      "|  [1787.0,910547.0]|    4.0|\n",
      "|  [1787.0,910547.0]|    4.0|\n",
      "| [69611.0,646704.0]|    4.0|\n",
      "| [69611.0,646704.0]|    4.0|\n",
      "+-------------------+-------+\n",
      "only showing top 20 rows\n",
      "\n"
     ]
    }
   ],
   "source": [
    "df = df_index.select(\"VectorFeature\",\"overall\")\n",
    "df.show()"
   ]
  },
  {
   "cell_type": "code",
   "execution_count": null,
   "metadata": {},
   "outputs": [
    {
     "name": "stdout",
     "output_type": "stream",
     "text": [
      "+-------+------------+------------------+----------+\n",
      "|overall|asin_indexed|reviewerID_indexed|prediction|\n",
      "+-------+------------+------------------+----------+\n",
      "|    1.0|         0.0|          910547.0| 3.7734962|\n",
      "|    1.0|         0.0|          910547.0| 3.7734962|\n",
      "|    1.0|         0.0|          910547.0| 3.7734962|\n",
      "|    1.0|         0.0|          910547.0| 3.7734962|\n",
      "|    1.0|         0.0|          910547.0| 3.7734962|\n",
      "|    1.0|         0.0|          910547.0| 3.7734962|\n",
      "|    1.0|         0.0|          910547.0| 3.7734962|\n",
      "|    2.0|         0.0|          910547.0| 3.7734962|\n",
      "|    2.0|         0.0|          910547.0| 3.7734962|\n",
      "|    2.0|         0.0|          910547.0| 3.7734962|\n",
      "|    2.0|         0.0|          910547.0| 3.7734962|\n",
      "|    2.0|         0.0|          910547.0| 3.7734962|\n",
      "|    2.0|         0.0|          910547.0| 3.7734962|\n",
      "|    2.0|         0.0|          910547.0| 3.7734962|\n",
      "|    2.0|         0.0|          910547.0| 3.7734962|\n",
      "|    2.0|         0.0|          910547.0| 3.7734962|\n",
      "|    2.0|         0.0|          910547.0| 3.7734962|\n",
      "|    2.0|         0.0|          910547.0| 3.7734962|\n",
      "|    2.0|         0.0|          910547.0| 3.7734962|\n",
      "|    3.0|         0.0|          910547.0| 3.7734962|\n",
      "+-------+------------+------------------+----------+\n",
      "only showing top 20 rows\n",
      "\n"
     ]
    }
   ],
   "source": [
    "predictions.show()"
   ]
  }
 ],
 "metadata": {
  "kernelspec": {
   "display_name": "base",
   "language": "python",
   "name": "python3"
  },
  "language_info": {
   "codemirror_mode": {
    "name": "ipython",
    "version": 3
   },
   "file_extension": ".py",
   "mimetype": "text/x-python",
   "name": "python",
   "nbconvert_exporter": "python",
   "pygments_lexer": "ipython3",
   "version": "3.10.9"
  },
  "orig_nbformat": 4
 },
 "nbformat": 4,
 "nbformat_minor": 2
}
