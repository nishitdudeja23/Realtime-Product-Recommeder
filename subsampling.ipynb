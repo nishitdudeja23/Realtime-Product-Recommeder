{
 "cells": [
  {
   "cell_type": "code",
   "execution_count": 10,
   "metadata": {},
   "outputs": [],
   "source": [
    "from pyspark.sql import SparkSession\n",
    "from pyspark.sql.types import StructType, StructField, StringType, LongType, DoubleType\n",
    "\n",
    "spark=SparkSession \\\n",
    "    .builder \\\n",
    "    .appName(\"sampling\") \\\n",
    "    .master(\"local\") \\\n",
    "    .config(\"spark.mongodb.input.uri\", \"mongodb://localhost:27017/\") \\\n",
    "    .config(\"spark.mongodb.output.uri\", \"mongodb://localhost:27017/\") \\\n",
    "    .config(\"spark.executor.memory\", \"9g\") \\\n",
    "    .config(\"spark.jars.packages\", \"org.mongodb.spark:mongo-spark-connector_2.12:3.0.1\") \\\n",
    "    .getOrCreate()\n",
    "\n",
    "df = spark.read.format(\"com.mongodb.spark.sql.DefaultSource\").option(\"pipeline\", \"[{'$sample': {'size': 100000} }]\")\\\n",
    "    .option(\"uri\", \"mongodb://localhost:27017/\"+\"amazon\"+\".\"+\"data\")\\\n",
    "    .option(\"partitioner\", \"MongoSinglePartitioner\") \\\n",
    "    .option(\"partitionkey\", \"asin\")\\\n",
    "    .load()\n",
    "\n",
    "sampledf = df.toPandas()"
   ]
  },
  {
   "cell_type": "code",
   "execution_count": 11,
   "metadata": {},
   "outputs": [
    {
     "data": {
      "text/html": [
       "<div>\n",
       "<style scoped>\n",
       "    .dataframe tbody tr th:only-of-type {\n",
       "        vertical-align: middle;\n",
       "    }\n",
       "\n",
       "    .dataframe tbody tr th {\n",
       "        vertical-align: top;\n",
       "    }\n",
       "\n",
       "    .dataframe thead th {\n",
       "        text-align: right;\n",
       "    }\n",
       "</style>\n",
       "<table border=\"1\" class=\"dataframe\">\n",
       "  <thead>\n",
       "    <tr style=\"text-align: right;\">\n",
       "      <th></th>\n",
       "      <th>_id</th>\n",
       "      <th>asin</th>\n",
       "      <th>overall</th>\n",
       "      <th>reviewText</th>\n",
       "      <th>reviewerID</th>\n",
       "      <th>reviewerName</th>\n",
       "      <th>summary</th>\n",
       "      <th>unixReviewTime</th>\n",
       "      <th>verified</th>\n",
       "    </tr>\n",
       "  </thead>\n",
       "  <tbody>\n",
       "    <tr>\n",
       "      <th>0</th>\n",
       "      <td>(64566a30b3ab715eba9a1c06,)</td>\n",
       "      <td>1490407081</td>\n",
       "      <td>5.0</td>\n",
       "      <td>sweet book.  loved the characters.  Looked kin...</td>\n",
       "      <td>AA8QD1DI7OMSD</td>\n",
       "      <td>nanna27</td>\n",
       "      <td>Sweet romance</td>\n",
       "      <td>1.397261e+09</td>\n",
       "      <td>True</td>\n",
       "    </tr>\n",
       "    <tr>\n",
       "      <th>1</th>\n",
       "      <td>(645665b0b3ab715eba8fabdb,)</td>\n",
       "      <td>B000ENUL8O</td>\n",
       "      <td>5.0</td>\n",
       "      <td>I was delighted to hear that Instant Star woul...</td>\n",
       "      <td>ACFGZ1D9CY7HK</td>\n",
       "      <td>Veronica O</td>\n",
       "      <td>This Star continues to SHINE</td>\n",
       "      <td>1.186099e+09</td>\n",
       "      <td>False</td>\n",
       "    </tr>\n",
       "    <tr>\n",
       "      <th>2</th>\n",
       "      <td>(64565f44b3ab715eba2124c4,)</td>\n",
       "      <td>B01BNN6J6Q</td>\n",
       "      <td>5.0</td>\n",
       "      <td>Good quality..Easy to assembly..''</td>\n",
       "      <td>A1TBH91VETNPDP</td>\n",
       "      <td>Joe L.</td>\n",
       "      <td>Great product....</td>\n",
       "      <td>1.476317e+09</td>\n",
       "      <td>True</td>\n",
       "    </tr>\n",
       "    <tr>\n",
       "      <th>3</th>\n",
       "      <td>(64566adbb3ab715eba22d5c4,)</td>\n",
       "      <td>817898346X</td>\n",
       "      <td>5.0</td>\n",
       "      <td>nice book</td>\n",
       "      <td>AZS3AA42LZ0OC</td>\n",
       "      <td>Fatima</td>\n",
       "      <td>Five Stars</td>\n",
       "      <td>1.467072e+09</td>\n",
       "      <td>True</td>\n",
       "    </tr>\n",
       "    <tr>\n",
       "      <th>4</th>\n",
       "      <td>(64566501b3ab715ebae4b71d,)</td>\n",
       "      <td>B000C5DZWI</td>\n",
       "      <td>1.0</td>\n",
       "      <td>This part fell apart after one week. No way to...</td>\n",
       "      <td>A1A86KFT83LQ7V</td>\n",
       "      <td>Amazon Customer</td>\n",
       "      <td>This part fell apart after one week.</td>\n",
       "      <td>1.502755e+09</td>\n",
       "      <td>True</td>\n",
       "    </tr>\n",
       "  </tbody>\n",
       "</table>\n",
       "</div>"
      ],
      "text/plain": [
       "                           _id        asin  overall  \\\n",
       "0  (64566a30b3ab715eba9a1c06,)  1490407081      5.0   \n",
       "1  (645665b0b3ab715eba8fabdb,)  B000ENUL8O      5.0   \n",
       "2  (64565f44b3ab715eba2124c4,)  B01BNN6J6Q      5.0   \n",
       "3  (64566adbb3ab715eba22d5c4,)  817898346X      5.0   \n",
       "4  (64566501b3ab715ebae4b71d,)  B000C5DZWI      1.0   \n",
       "\n",
       "                                          reviewText      reviewerID  \\\n",
       "0  sweet book.  loved the characters.  Looked kin...   AA8QD1DI7OMSD   \n",
       "1  I was delighted to hear that Instant Star woul...   ACFGZ1D9CY7HK   \n",
       "2                 Good quality..Easy to assembly..''  A1TBH91VETNPDP   \n",
       "3                                          nice book   AZS3AA42LZ0OC   \n",
       "4  This part fell apart after one week. No way to...  A1A86KFT83LQ7V   \n",
       "\n",
       "      reviewerName                               summary  unixReviewTime  \\\n",
       "0          nanna27                         Sweet romance    1.397261e+09   \n",
       "1       Veronica O          This Star continues to SHINE    1.186099e+09   \n",
       "2           Joe L.                     Great product....    1.476317e+09   \n",
       "3           Fatima                            Five Stars    1.467072e+09   \n",
       "4  Amazon Customer  This part fell apart after one week.    1.502755e+09   \n",
       "\n",
       "   verified  \n",
       "0      True  \n",
       "1     False  \n",
       "2      True  \n",
       "3      True  \n",
       "4      True  "
      ]
     },
     "execution_count": 11,
     "metadata": {},
     "output_type": "execute_result"
    }
   ],
   "source": [
    "sampledf.head()"
   ]
  },
  {
   "cell_type": "code",
   "execution_count": 12,
   "metadata": {},
   "outputs": [],
   "source": [
    "sampledf.to_csv(\"sample.csv\", index=False)"
   ]
  },
  {
   "cell_type": "code",
   "execution_count": 13,
   "metadata": {},
   "outputs": [],
   "source": [
    "from pyspark.sql import SparkSession\n",
    "from pyspark.sql.types import StructType, StructField, StringType, LongType, DoubleType\n",
    "\n",
    "spark=SparkSession \\\n",
    "    .builder \\\n",
    "    .appName(\"sampling\") \\\n",
    "    .master(\"local\") \\\n",
    "    .config(\"spark.mongodb.input.uri\", \"mongodb://localhost:27017/\") \\\n",
    "    .config(\"spark.mongodb.output.uri\", \"mongodb://localhost:27017/\") \\\n",
    "    .config(\"spark.executor.memory\", \"9g\") \\\n",
    "    .config(\"spark.jars.packages\", \"org.mongodb.spark:mongo-spark-connector_2.12:3.0.1\") \\\n",
    "    .getOrCreate()\n",
    "\n",
    "df = spark.read.format(\"com.mongodb.spark.sql.DefaultSource\")\\\n",
    "    .option(\"uri\", \"mongodb://localhost:27017/\"+\"amazon\"+\".\"+\"data\")\\\n",
    "    .option(\"partitioner\", \"MongoSinglePartitioner\") \\\n",
    "    .option(\"partitionkey\", \"asin\")\\\n",
    "    .load()\n",
    "\n"
   ]
  },
  {
   "cell_type": "code",
   "execution_count": 14,
   "metadata": {},
   "outputs": [],
   "source": [
    "from pyspark.sql.functions import mean, stddev, col\n",
    "import numpy as np\n",
    "import matplotlib.pyplot as plt\n",
    "import scipy.stats as stats"
   ]
  },
  {
   "cell_type": "code",
   "execution_count": 15,
   "metadata": {},
   "outputs": [
    {
     "name": "stdout",
     "output_type": "stream",
     "text": [
      "Mean: 4.232190208636595\n",
      "Standard deviation: 1.2465116112162211\n"
     ]
    },
    {
     "data": {
      "image/png": "[encoded data removed]",
      "text/plain": [
       "<Figure size 640x480 with 1 Axes>"
      ]
     },
     "metadata": {},
     "output_type": "display_data"
    }
   ],
   "source": [
    "# Calculate the mean and standard deviation of the 'overall' column\n",
    "overall_mean = df.select(mean(col('overall'))).collect()[0][0]\n",
    "overall_std = df.select(stddev(col('overall'))).collect()[0][0]\n",
    "\n",
    "# Create a normal distribution with the same mean and standard deviation as the 'overall' column\n",
    "norm_dist = stats.norm(overall_mean, overall_std)\n",
    "\n",
    "# Create an array of x-values (the range of the normal distribution)\n",
    "x = np.linspace(overall_mean - 3*overall_std, overall_mean + 3*overall_std, 100)\n",
    "\n",
    "# Create an array of y-values (the probability density at each x-value)\n",
    "y = norm_dist.pdf(x)\n",
    "\n",
    "# Plot the normal distribution curve\n",
    "plt.plot(x, y)\n",
    "\n",
    "# Display the mean and standard deviation\n",
    "print(\"Mean:\", overall_mean)\n",
    "print(\"Standard deviation:\", overall_std)\n",
    "\n",
    "# Show the plot\n",
    "plt.show()"
   ]
  },
  {
   "cell_type": "code",
   "execution_count": 9,
   "metadata": {},
   "outputs": [],
   "source": [
    "spark.stop()"
   ]
  }
 ],
 "metadata": {
  "kernelspec": {
   "display_name": "base",
   "language": "python",
   "name": "python3"
  },
  "language_info": {
   "codemirror_mode": {
    "name": "ipython",
    "version": 3
   },
   "file_extension": ".py",
   "mimetype": "text/x-python",
   "name": "python",
   "nbconvert_exporter": "python",
   "pygments_lexer": "ipython3",
   "version": "3.10.9"
  },
  "orig_nbformat": 4
 },
 "nbformat": 4,
 "nbformat_minor": 2
}
